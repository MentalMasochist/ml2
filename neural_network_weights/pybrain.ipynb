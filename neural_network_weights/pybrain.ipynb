{
 "metadata": {
  "name": ""
 },
 "nbformat": 3,
 "nbformat_minor": 0,
 "worksheets": [
  {
   "cells": [
    {
     "cell_type": "code",
     "collapsed": false,
     "input": [
      "import continuous_randOpt as ropt\n",
      "\n",
      "from pybrain.datasets import ClassificationDataSet\n",
      "from pybrain.utilities import percentError\n",
      "from pybrain.tools.shortcuts import buildNetwork\n",
      "from pybrain.supervised.trainers import BackpropTrainer\n",
      "from pybrain.structure.modules import SoftmaxLayer\n",
      "from sklearn import cross_validation\n",
      "\n",
      "import numpy as np\n",
      "import csv\n",
      "import sys"
     ],
     "language": "python",
     "metadata": {},
     "outputs": [],
     "prompt_number": 1
    },
    {
     "cell_type": "code",
     "collapsed": false,
     "input": [
      "def read_data(fname):\n",
      "\t\"\"\"\n",
      "\t\"\"\"\n",
      "\treader = csv.reader(open(fname,'r'))\n",
      "\treader.next() # skip headers\n",
      "\tdata = []\n",
      "\tfor line in reader:\n",
      "\t\tdata.append(line)\n",
      "\tdata = np.array(data).astype(int)\n",
      "\tdata = get_pybrain_data(data)\n",
      "\treturn data"
     ],
     "language": "python",
     "metadata": {},
     "outputs": [],
     "prompt_number": 4
    },
    {
     "cell_type": "code",
     "collapsed": false,
     "input": [
      "def get_pybrain_data(data):\n",
      "\t\"\"\" convert to pybrain dataset\n",
      "\t\"\"\"\n",
      "\tfeatures = data[:,:-1] \n",
      "\tlabels = data[:,-1]\n",
      "\tinputdim = features.shape[1]\n",
      "\tnb_classes = len(np.unique(labels))\n",
      "\tDS = ClassificationDataSet(inputdim, nb_classes=nb_classes)\n",
      "\tfor i, ft in enumerate(features):\n",
      "\t\tDS.appendLinked( ft, [labels[i]-1] ) # labels need to be a range of int starting from 0 (I know, this is stupid)\n",
      "\tDS._convertToOneOfMany( )\n",
      "\treturn DS"
     ],
     "language": "python",
     "metadata": {},
     "outputs": [],
     "prompt_number": 7
    },
    {
     "cell_type": "code",
     "collapsed": false,
     "input": [
      "trnfname = \"./data/cmc-train.csv\"\n",
      "tstfname = \"./data/cmc-test.csv\"\t"
     ],
     "language": "python",
     "metadata": {},
     "outputs": [],
     "prompt_number": 8
    },
    {
     "cell_type": "code",
     "collapsed": false,
     "input": [
      "# read dataset\n",
      "trndata = read_data(trnfname)\n",
      "tstdata = read_data(tstfname)"
     ],
     "language": "python",
     "metadata": {},
     "outputs": [],
     "prompt_number": 9
    },
    {
     "cell_type": "code",
     "collapsed": false,
     "input": [],
     "language": "python",
     "metadata": {},
     "outputs": []
    }
   ],
   "metadata": {}
  }
 ]
}